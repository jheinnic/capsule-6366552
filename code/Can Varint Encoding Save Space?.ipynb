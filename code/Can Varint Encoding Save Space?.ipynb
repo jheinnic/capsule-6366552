{
 "cells": [
  {
   "cell_type": "code",
   "execution_count": 3,
   "metadata": {},
   "outputs": [
    {
     "name": "stdout",
     "output_type": "stream",
     "text": [
      "Optimal encoding for 2888549 out of 3048192 total pixel count\n"
     ]
    }
   ],
   "source": [
    "from skimage.io import imread\n",
    "import numpy as np\n",
    "\n",
    "data = imread('./ee19f416b1735c6ec5fc2ff3c1524a761032d001/450_accum16_20200212_163253.png')\n",
    "flat = data.flatten()\n",
    "# Use a listing of the unique values to guide their counting and then sort on those counters to find the most efficient pixel\n",
    "# map for this image.  We must store the pixel map in image metadata for this to work, but this overheard comes nowehre near\n",
    "# undermining the cost savings for storing the main body.\n",
    "uniques = np.unique(flat)\n",
    "np.sort(uniques)\n",
    "size = len(uniques)\n",
    "uniques.resize(size + 1)\n",
    "uniques[size] = np.max(uniques) + 5\n",
    "ht = np.histogram(flat, bins=uniques, density=False)\n",
    "values = np.array([(ii[0],0-ii[1]) for ii in zip(ht[1], ht[0])], \n",
    "                  dtype=[(\"value\", int), (\"freq\", int)])\n",
    "values.sort(order=\"freq\")\n",
    "encoding_map = [ii[0] for ii in values]\n",
    "# MySQL varint algorithm has worked best thus far and it uses 8 bits for the first 240 values to receive varint encoding.\n",
    "# Let's use that to predict how much of the image this will let us store efficiently\n",
    "optimalPixels = np.sum([(0 - ii[1]) for ii in values[0:240]])\n",
    "print(f\"Optimal encoding for {optimalPixels} out of {len(flat)} total pixel count\")\n"
   ]
  },
  {
   "cell_type": "code",
   "execution_count": 23,
   "metadata": {},
   "outputs": [
    {
     "data": {
      "text/plain": [
       "94.76269867514907"
      ]
     },
     "execution_count": 23,
     "metadata": {},
     "output_type": "execute_result"
    }
   ],
   "source": [
    "2888549 * 100.0 / 3048192 "
   ]
  },
  {
   "cell_type": "markdown",
   "metadata": {},
   "source": [
    "For this sample input a carefully selected pixel encoding map reaches 94.7% of the total content with an eight bit pixel.  The remaining vlaues are going to fix into two pixels and not be any worse than they already are today."
   ]
  }
 ],
 "metadata": {
  "kernelspec": {
   "display_name": "Python 3",
   "language": "python",
   "name": "python3"
  },
  "language_info": {
   "codemirror_mode": {
    "name": "ipython",
    "version": 3
   },
   "file_extension": ".py",
   "mimetype": "text/x-python",
   "name": "python",
   "nbconvert_exporter": "python",
   "pygments_lexer": "ipython3",
   "version": "3.6.9"
  }
 },
 "nbformat": 4,
 "nbformat_minor": 4
}
