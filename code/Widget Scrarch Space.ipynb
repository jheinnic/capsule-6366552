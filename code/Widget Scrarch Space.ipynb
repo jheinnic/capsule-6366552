{
 "cells": [
  {
   "cell_type": "code",
   "execution_count": 2,
   "metadata": {},
   "outputs": [],
   "source": [
    "import varints\n",
    "import sys\n",
    "import numpy as np\n",
    "from skimage.io import imread, imsave\n",
    "from scipy import sparse\n",
    "import numpy as np\n",
    "import gzip\n",
    "import os\n",
    "from pathlib import Path\n",
    "from process import process\n",
    "from typing import Any\n",
    "\n",
    "\n",
    "sparse_proto_direct_reduce_root = Path(\"./results/sparse_proto_direct\")\n",
    "proto_direct_reduce_root = Path(\"./results/proto_direct\")\n",
    "proto_delta_reduce_root = Path(\"./results/proto_delta\")\n",
    "proto_raw_reduce_root = Path(\"./results/proto_raw\")\n",
    "BLOCK_SIZE = 8192\n",
    "ALGOS = [\"sqliteu\", \"dlugoszu\", \"leb128s\", \"leb128u\"]\n",
    "            \n",
    "        \n",
    "def run_experiment(png_src: np.ndarray, result_file: Path):\n",
    "    \"\"\"\n",
    "    Apply each candidate varint algoritm to the given condensed byte sequence.  Report on the sizing of each any\n",
    "    ensure that each algorithm's work is reversible without any knowledge other than which algorithm was used to\n",
    "    condense the bit sequence.\n",
    "    \"\"\"\n",
    "    print(result_file)\n",
    "    as_list = png_src.tolist()\n",
    "    full_size = len(png_src)\n",
    "    padding = (full_size % BLOCK_SIZE)\n",
    "    if (padding > 0):\n",
    "        padding = BLOCK_SIZE - padding\n",
    "        as_list.extend([0] * padding)\n",
    "        full_size = full_size + padding\n",
    "        png_src = np.fromiter(as_list, np.uint16)\n",
    "    block_count: int = round(full_size / BLOCK_SIZE)\n",
    "    algo_idx = 0\n",
    "    for varint_algo in [varints.sqliteu, varints.dlugoszu]:  #, varints.leb128s, varints.leb128u]:\n",
    "        algo = ALGOS[algo_idx]\n",
    "        algo_idx = algo_idx + 1\n",
    "        algo_result_file = f\"{str(result_file)}-{algo}.dat\"\n",
    "        approx = 0\n",
    "        block_idx = 0\n",
    "        last_block = block_count - 1\n",
    "        with gzip.open(algo_result_file, 'wb', compresslevel=9) as woo:\n",
    "            for chunk in np.split(png_src, block_count):\n",
    "                block_idx += 1\n",
    "                if block_idx == last_block:\n",
    "                    chunk = chunk[:(-1 * padding)]\n",
    "                var = varint_algo.encode(chunk.tolist())\n",
    "                approx += sys.getsizeof(var)\n",
    "                woo.write(var)\n",
    "#         with gzip.open(algo_result_file, 'rb', compresslevel=9) as woo:\n",
    "#             var = woo.read()\n",
    "#         decoded_bytes = varint_algo.decode(var)\n",
    "#         rehydrated_png = np.array(decoded_bytes, np.uint16)\n",
    "#         if not (png_src == rehydrated_png).all():\n",
    "#             raise ValueError(f\"Comparison on reading back varint encoding failed\")\n",
    "        print(f\"|{approx}|{algo}|{result_file}|\")"
   ]
  },
  {
   "cell_type": "code",
   "execution_count": null,
   "metadata": {
    "scrolled": true
   },
   "outputs": [
    {
     "name": "stdout",
     "output_type": "stream",
     "text": [
      "Raw size: 6096480 bytes in 3048192 items\n",
      "Direct png compaction: 6096480 bytes in 3048192 items using digitize16\n",
      "Delta png compaction: 6096480 bytes in 3048192 items using digitize16\n",
      "Raw Variant Encoding\n",
      "results/proto_raw/450_accum16_20200212_163253.png\n",
      "|3653662|sqliteu|results/proto_raw/450_accum16_20200212_163253.png|\n",
      "|3965723|dlugoszu|results/proto_raw/450_accum16_20200212_163253.png|\n",
      "|4064030|leb128s|results/proto_raw/450_accum16_20200212_163253.png|\n",
      "|3965723|leb128u|results/proto_raw/450_accum16_20200212_163253.png|\n",
      "Direct Compact Variant Encoding\n",
      "results/proto_direct/450_accum16_20200212_163253.png\n",
      "|3217421|sqliteu|results/proto_direct/450_accum16_20200212_163253.png|\n",
      "|3603350|dlugoszu|results/proto_direct/450_accum16_20200212_163253.png|\n",
      "|3869942|leb128s|results/proto_direct/450_accum16_20200212_163253.png|\n",
      "|3603350|leb128u|results/proto_direct/450_accum16_20200212_163253.png|\n",
      "Delta Compact Variant Encoding\n",
      "results/proto_delta/450_accum16_20200212_163253.png\n",
      "|3069202|sqliteu|results/proto_delta/450_accum16_20200212_163253.png|\n",
      "|3196369|dlugoszu|results/proto_delta/450_accum16_20200212_163253.png|\n",
      "|3512490|leb128s|results/proto_delta/450_accum16_20200212_163253.png|\n",
      "|3196369|leb128u|results/proto_delta/450_accum16_20200212_163253.png|\n",
      "\n",
      "\n",
      "Raw size: 6096480 bytes in 3048192 items\n"
     ]
    },
    {
     "name": "stderr",
     "output_type": "stream",
     "text": [
      "/opt/app-root/src/StorageResearch/process.py:91: UserWarning: results/png_delta/1500_accum16_20200212_163302.png is a low contrast image\n",
      "  imsave(dst, reduced)\n",
      "/opt/app-root/src/StorageResearch/process.py:91: UserWarning: results/png_direct/1500_accum16_20200212_163302.png is a low contrast image\n",
      "  imsave(dst, reduced)\n"
     ]
    },
    {
     "name": "stdout",
     "output_type": "stream",
     "text": [
      "Direct png compaction: 6096480 bytes in 3048192 items using digitize16\n",
      "Delta png compaction: 6096480 bytes in 3048192 items using digitize16\n",
      "Raw Variant Encoding\n",
      "results/proto_raw/1500_accum16_20200212_163302.png\n",
      "|3177589|sqliteu|results/proto_raw/1500_accum16_20200212_163302.png|\n",
      "|3729776|dlugoszu|results/proto_raw/1500_accum16_20200212_163302.png|\n",
      "|3958620|leb128s|results/proto_raw/1500_accum16_20200212_163302.png|\n",
      "|3729776|leb128u|results/proto_raw/1500_accum16_20200212_163302.png|\n",
      "Direct Compact Variant Encoding\n",
      "results/proto_direct/1500_accum16_20200212_163302.png\n",
      "|3061088|sqliteu|results/proto_direct/1500_accum16_20200212_163302.png|\n",
      "|3290410|dlugoszu|results/proto_direct/1500_accum16_20200212_163302.png|\n",
      "|3682483|leb128s|results/proto_direct/1500_accum16_20200212_163302.png|\n",
      "|3290410|leb128u|results/proto_direct/1500_accum16_20200212_163302.png|\n",
      "Delta Compact Variant Encoding\n",
      "results/proto_delta/1500_accum16_20200212_163302.png\n",
      "|3063179|sqliteu|results/proto_delta/1500_accum16_20200212_163302.png|\n",
      "|3147049|dlugoszu|results/proto_delta/1500_accum16_20200212_163302.png|\n",
      "|3447835|leb128s|results/proto_delta/1500_accum16_20200212_163302.png|\n",
      "|3147049|leb128u|results/proto_delta/1500_accum16_20200212_163302.png|\n",
      "\n",
      "\n",
      "Raw size: 6096480 bytes in 3048192 items\n"
     ]
    },
    {
     "name": "stderr",
     "output_type": "stream",
     "text": [
      "/opt/app-root/src/StorageResearch/process.py:91: UserWarning: results/png_delta/1950_accum16_20200212_163306.png is a low contrast image\n",
      "  imsave(dst, reduced)\n",
      "/opt/app-root/src/StorageResearch/process.py:91: UserWarning: results/png_direct/1950_accum16_20200212_163306.png is a low contrast image\n",
      "  imsave(dst, reduced)\n"
     ]
    },
    {
     "name": "stdout",
     "output_type": "stream",
     "text": [
      "Direct png compaction: 6096480 bytes in 3048192 items using digitize16\n",
      "Delta png compaction: 6096480 bytes in 3048192 items using digitize16\n",
      "Raw Variant Encoding\n",
      "results/proto_raw/1950_accum16_20200212_163306.png\n",
      "|3099777|sqliteu|results/proto_raw/1950_accum16_20200212_163306.png|\n",
      "|3570551|dlugoszu|results/proto_raw/1950_accum16_20200212_163306.png|\n",
      "|3907021|leb128s|results/proto_raw/1950_accum16_20200212_163306.png|\n",
      "|3570551|leb128u|results/proto_raw/1950_accum16_20200212_163306.png|\n",
      "Direct Compact Variant Encoding\n",
      "results/proto_direct/1950_accum16_20200212_163306.png\n",
      "|3060844|sqliteu|results/proto_direct/1950_accum16_20200212_163306.png|\n",
      "|3168293|dlugoszu|results/proto_direct/1950_accum16_20200212_163306.png|\n",
      "|3613517|leb128s|results/proto_direct/1950_accum16_20200212_163306.png|\n",
      "|3168293|leb128u|results/proto_direct/1950_accum16_20200212_163306.png|\n",
      "Delta Compact Variant Encoding\n",
      "results/proto_delta/1950_accum16_20200212_163306.png\n",
      "|3062392|sqliteu|results/proto_delta/1950_accum16_20200212_163306.png|\n",
      "|3135715|dlugoszu|results/proto_delta/1950_accum16_20200212_163306.png|\n",
      "|3429036|leb128s|results/proto_delta/1950_accum16_20200212_163306.png|\n",
      "|3135715|leb128u|results/proto_delta/1950_accum16_20200212_163306.png|\n",
      "\n",
      "\n",
      "Raw size: 6096480 bytes in 3048192 items\n"
     ]
    },
    {
     "name": "stderr",
     "output_type": "stream",
     "text": [
      "/opt/app-root/src/StorageResearch/process.py:91: UserWarning: results/png_delta/2100_accum16_20200212_163307.png is a low contrast image\n",
      "  imsave(dst, reduced)\n",
      "/opt/app-root/src/StorageResearch/process.py:91: UserWarning: results/png_direct/2100_accum16_20200212_163307.png is a low contrast image\n",
      "  imsave(dst, reduced)\n"
     ]
    },
    {
     "name": "stdout",
     "output_type": "stream",
     "text": [
      "Direct png compaction: 6096480 bytes in 3048192 items using digitize16\n",
      "Delta png compaction: 6096480 bytes in 3048192 items using digitize16\n",
      "Raw Variant Encoding\n",
      "results/proto_raw/2100_accum16_20200212_163307.png\n",
      "|3090146|sqliteu|results/proto_raw/2100_accum16_20200212_163307.png|\n",
      "|3500384|dlugoszu|results/proto_raw/2100_accum16_20200212_163307.png|\n",
      "|3879066|leb128s|results/proto_raw/2100_accum16_20200212_163307.png|\n",
      "|3500384|leb128u|results/proto_raw/2100_accum16_20200212_163307.png|\n",
      "Direct Compact Variant Encoding\n",
      "results/proto_direct/2100_accum16_20200212_163307.png\n",
      "|3060715|sqliteu|results/proto_direct/2100_accum16_20200212_163307.png|\n",
      "|3134382|dlugoszu|results/proto_direct/2100_accum16_20200212_163307.png|\n",
      "|3581000|leb128s|results/proto_direct/2100_accum16_20200212_163307.png|\n",
      "|3134382|leb128u|results/proto_direct/2100_accum16_20200212_163307.png|\n",
      "Delta Compact Variant Encoding\n",
      "results/proto_delta/2100_accum16_20200212_163307.png\n",
      "|3062152|sqliteu|results/proto_delta/2100_accum16_20200212_163307.png|\n",
      "|3131892|dlugoszu|results/proto_delta/2100_accum16_20200212_163307.png|\n",
      "|3422865|leb128s|results/proto_delta/2100_accum16_20200212_163307.png|\n",
      "|3131892|leb128u|results/proto_delta/2100_accum16_20200212_163307.png|\n",
      "\n",
      "\n",
      "Raw size: 6096480 bytes in 3048192 items\n"
     ]
    },
    {
     "name": "stderr",
     "output_type": "stream",
     "text": [
      "/opt/app-root/src/StorageResearch/process.py:91: UserWarning: results/png_delta/1200_accum16_20200212_163300.png is a low contrast image\n",
      "  imsave(dst, reduced)\n",
      "/opt/app-root/src/StorageResearch/process.py:91: UserWarning: results/png_direct/1200_accum16_20200212_163300.png is a low contrast image\n",
      "  imsave(dst, reduced)\n"
     ]
    },
    {
     "name": "stdout",
     "output_type": "stream",
     "text": [
      "Direct png compaction: 6096480 bytes in 3048192 items using digitize16\n",
      "Delta png compaction: 6096480 bytes in 3048192 items using digitize16\n",
      "Raw Variant Encoding\n",
      "results/proto_raw/1200_accum16_20200212_163300.png\n",
      "|3271667|sqliteu|results/proto_raw/1200_accum16_20200212_163300.png|\n",
      "|3786999|dlugoszu|results/proto_raw/1200_accum16_20200212_163300.png|\n",
      "|3978187|leb128s|results/proto_raw/1200_accum16_20200212_163300.png|\n",
      "|3786999|leb128u|results/proto_raw/1200_accum16_20200212_163300.png|\n",
      "Direct Compact Variant Encoding\n",
      "results/proto_direct/1200_accum16_20200212_163300.png\n",
      "|3061306|sqliteu|results/proto_direct/1200_accum16_20200212_163300.png|\n",
      "|3348489|dlugoszu|results/proto_direct/1200_accum16_20200212_163300.png|\n",
      "|3721912|leb128s|results/proto_direct/1200_accum16_20200212_163300.png|\n",
      "|3348489|leb128u|results/proto_direct/1200_accum16_20200212_163300.png|\n",
      "Delta Compact Variant Encoding\n",
      "results/proto_delta/1200_accum16_20200212_163300.png\n",
      "|3063829|sqliteu|results/proto_delta/1200_accum16_20200212_163300.png|\n",
      "|3154417|dlugoszu|results/proto_delta/1200_accum16_20200212_163300.png|\n",
      "|3458501|leb128s|results/proto_delta/1200_accum16_20200212_163300.png|\n",
      "|3154417|leb128u|results/proto_delta/1200_accum16_20200212_163300.png|\n",
      "\n",
      "\n",
      "Raw size: 6096480 bytes in 3048192 items\n"
     ]
    },
    {
     "name": "stderr",
     "output_type": "stream",
     "text": [
      "/opt/app-root/src/StorageResearch/process.py:91: UserWarning: results/png_delta/2400_accum16_20200212_163310.png is a low contrast image\n",
      "  imsave(dst, reduced)\n",
      "/opt/app-root/src/StorageResearch/process.py:91: UserWarning: results/png_direct/2400_accum16_20200212_163310.png is a low contrast image\n",
      "  imsave(dst, reduced)\n"
     ]
    },
    {
     "name": "stdout",
     "output_type": "stream",
     "text": [
      "Direct png compaction: 6096480 bytes in 3048192 items using digitize16\n",
      "Delta png compaction: 6096480 bytes in 3048192 items using digitize16\n",
      "Raw Variant Encoding\n",
      "results/proto_raw/2400_accum16_20200212_163310.png\n",
      "|3083037|sqliteu|results/proto_raw/2400_accum16_20200212_163310.png|\n",
      "|3392632|dlugoszu|results/proto_raw/2400_accum16_20200212_163310.png|\n",
      "|3828725|leb128s|results/proto_raw/2400_accum16_20200212_163310.png|\n",
      "|3392632|leb128u|results/proto_raw/2400_accum16_20200212_163310.png|\n",
      "Direct Compact Variant Encoding\n",
      "results/proto_direct/2400_accum16_20200212_163310.png\n",
      "|3060580|sqliteu|results/proto_direct/2400_accum16_20200212_163310.png|\n",
      "|3106227|dlugoszu|results/proto_direct/2400_accum16_20200212_163310.png|\n",
      "|3524568|leb128s|results/proto_direct/2400_accum16_20200212_163310.png|\n",
      "|3106227|leb128u|results/proto_direct/2400_accum16_20200212_163310.png|\n",
      "Delta Compact Variant Encoding\n",
      "results/proto_delta/2400_accum16_20200212_163310.png\n",
      "|3061867|sqliteu|results/proto_delta/2400_accum16_20200212_163310.png|\n",
      "|3126304|dlugoszu|results/proto_delta/2400_accum16_20200212_163310.png|\n",
      "|3412796|leb128s|results/proto_delta/2400_accum16_20200212_163310.png|\n",
      "|3126304|leb128u|results/proto_delta/2400_accum16_20200212_163310.png|\n",
      "\n",
      "\n",
      "Raw size: 6096480 bytes in 3048192 items\n"
     ]
    },
    {
     "name": "stderr",
     "output_type": "stream",
     "text": [
      "/opt/app-root/src/StorageResearch/process.py:91: UserWarning: results/png_delta/600_accum16_20200212_163254.png is a low contrast image\n",
      "  imsave(dst, reduced)\n",
      "/opt/app-root/src/StorageResearch/process.py:91: UserWarning: results/png_direct/600_accum16_20200212_163254.png is a low contrast image\n",
      "  imsave(dst, reduced)\n"
     ]
    },
    {
     "name": "stdout",
     "output_type": "stream",
     "text": [
      "Direct png compaction: 6096480 bytes in 3048192 items using digitize16\n",
      "Delta png compaction: 6096480 bytes in 3048192 items using digitize16\n",
      "Raw Variant Encoding\n",
      "results/proto_raw/600_accum16_20200212_163254.png\n",
      "|3528307|sqliteu|results/proto_raw/600_accum16_20200212_163254.png|\n",
      "|3901969|dlugoszu|results/proto_raw/600_accum16_20200212_163254.png|\n",
      "|4041992|leb128s|results/proto_raw/600_accum16_20200212_163254.png|\n",
      "|3901969|leb128u|results/proto_raw/600_accum16_20200212_163254.png|\n",
      "Direct Compact Variant Encoding\n",
      "results/proto_direct/600_accum16_20200212_163254.png\n",
      "|3117619|sqliteu|results/proto_direct/600_accum16_20200212_163254.png|\n",
      "|3518738|dlugoszu|results/proto_direct/600_accum16_20200212_163254.png|\n",
      "|3827505|leb128s|results/proto_direct/600_accum16_20200212_163254.png|\n",
      "|3518738|leb128u|results/proto_direct/600_accum16_20200212_163254.png|\n",
      "Delta Compact Variant Encoding\n",
      "results/proto_delta/600_accum16_20200212_163254.png\n",
      "|3066383|sqliteu|results/proto_delta/600_accum16_20200212_163254.png|\n",
      "|3178573|dlugoszu|results/proto_delta/600_accum16_20200212_163254.png|\n",
      "|3491534|leb128s|results/proto_delta/600_accum16_20200212_163254.png|\n",
      "|3178573|leb128u|results/proto_delta/600_accum16_20200212_163254.png|\n",
      "\n",
      "\n",
      "Raw size: 6096480 bytes in 3048192 items\n"
     ]
    },
    {
     "name": "stderr",
     "output_type": "stream",
     "text": [
      "/opt/app-root/src/StorageResearch/process.py:91: UserWarning: results/png_delta/150_accum16_20200212_163250.png is a low contrast image\n",
      "  imsave(dst, reduced)\n",
      "/opt/app-root/src/StorageResearch/process.py:91: UserWarning: results/png_direct/150_accum16_20200212_163250.png is a low contrast image\n",
      "  imsave(dst, reduced)\n"
     ]
    },
    {
     "name": "stdout",
     "output_type": "stream",
     "text": [
      "Direct png compaction: 6096480 bytes in 3048192 items using digitize16\n",
      "Delta png compaction: 6096480 bytes in 3048192 items using digitize16\n",
      "Raw Variant Encoding\n",
      "results/proto_raw/150_accum16_20200212_163250.png\n",
      "|3769369|sqliteu|results/proto_raw/150_accum16_20200212_163250.png|\n",
      "|3992491|dlugoszu|results/proto_raw/150_accum16_20200212_163250.png|\n",
      "|4067947|leb128s|results/proto_raw/150_accum16_20200212_163250.png|\n",
      "|3992491|leb128u|results/proto_raw/150_accum16_20200212_163250.png|\n",
      "Direct Compact Variant Encoding\n",
      "results/proto_direct/150_accum16_20200212_163250.png\n",
      "|3310818|sqliteu|results/proto_direct/150_accum16_20200212_163250.png|\n",
      "|3685285|dlugoszu|results/proto_direct/150_accum16_20200212_163250.png|\n",
      "|3917281|leb128s|results/proto_direct/150_accum16_20200212_163250.png|\n",
      "|3685285|leb128u|results/proto_direct/150_accum16_20200212_163250.png|\n",
      "Delta Compact Variant Encoding\n",
      "results/proto_delta/150_accum16_20200212_163250.png\n",
      "|3071623|sqliteu|results/proto_delta/150_accum16_20200212_163250.png|\n",
      "|3211418|dlugoszu|results/proto_delta/150_accum16_20200212_163250.png|\n",
      "|3522019|leb128s|results/proto_delta/150_accum16_20200212_163250.png|\n",
      "|3211418|leb128u|results/proto_delta/150_accum16_20200212_163250.png|\n",
      "\n",
      "\n",
      "Raw size: 6096480 bytes in 3048192 items\n"
     ]
    },
    {
     "name": "stderr",
     "output_type": "stream",
     "text": [
      "/opt/app-root/src/StorageResearch/process.py:91: UserWarning: results/png_delta/1650_accum16_20200212_163303.png is a low contrast image\n",
      "  imsave(dst, reduced)\n",
      "/opt/app-root/src/StorageResearch/process.py:91: UserWarning: results/png_direct/1650_accum16_20200212_163303.png is a low contrast image\n",
      "  imsave(dst, reduced)\n"
     ]
    },
    {
     "name": "stdout",
     "output_type": "stream",
     "text": [
      "Direct png compaction: 6096480 bytes in 3048192 items using digitize16\n",
      "Delta png compaction: 6096480 bytes in 3048192 items using digitize16\n",
      "Raw Variant Encoding\n",
      "results/proto_raw/1650_accum16_20200212_163303.png\n",
      "|3139929|sqliteu|results/proto_raw/1650_accum16_20200212_163303.png|\n",
      "|3689266|dlugoszu|results/proto_raw/1650_accum16_20200212_163303.png|\n",
      "|3947109|leb128s|results/proto_raw/1650_accum16_20200212_163303.png|\n",
      "|3689266|leb128u|results/proto_raw/1650_accum16_20200212_163303.png|\n",
      "Direct Compact Variant Encoding\n",
      "results/proto_direct/1650_accum16_20200212_163303.png\n",
      "|3060853|sqliteu|results/proto_direct/1650_accum16_20200212_163303.png|\n",
      "|3254375|dlugoszu|results/proto_direct/1650_accum16_20200212_163303.png|\n",
      "|3662281|leb128s|results/proto_direct/1650_accum16_20200212_163303.png|\n",
      "|3254375|leb128u|results/proto_direct/1650_accum16_20200212_163303.png|\n",
      "Delta Compact Variant Encoding\n",
      "results/proto_delta/1650_accum16_20200212_163303.png\n",
      "|3062878|sqliteu|results/proto_delta/1650_accum16_20200212_163303.png|\n",
      "|3142589|dlugoszu|results/proto_delta/1650_accum16_20200212_163303.png|\n",
      "|3443631|leb128s|results/proto_delta/1650_accum16_20200212_163303.png|\n",
      "|3142589|leb128u|results/proto_delta/1650_accum16_20200212_163303.png|\n",
      "\n",
      "\n",
      "Raw size: 6096480 bytes in 3048192 items\n"
     ]
    },
    {
     "name": "stderr",
     "output_type": "stream",
     "text": [
      "/opt/app-root/src/StorageResearch/process.py:91: UserWarning: results/png_delta/1050_accum16_20200212_163258.png is a low contrast image\n",
      "  imsave(dst, reduced)\n",
      "/opt/app-root/src/StorageResearch/process.py:91: UserWarning: results/png_direct/1050_accum16_20200212_163258.png is a low contrast image\n",
      "  imsave(dst, reduced)\n"
     ]
    },
    {
     "name": "stdout",
     "output_type": "stream",
     "text": [
      "Direct png compaction: 6096480 bytes in 3048192 items using digitize16\n",
      "Delta png compaction: 6096480 bytes in 3048192 items using digitize16\n",
      "Raw Variant Encoding\n",
      "results/proto_raw/1050_accum16_20200212_163258.png\n",
      "|3329853|sqliteu|results/proto_raw/1050_accum16_20200212_163258.png|\n",
      "|3812345|dlugoszu|results/proto_raw/1050_accum16_20200212_163258.png|\n",
      "|3991357|leb128s|results/proto_raw/1050_accum16_20200212_163258.png|\n",
      "|3812345|leb128u|results/proto_raw/1050_accum16_20200212_163258.png|\n",
      "Direct Compact Variant Encoding\n",
      "results/proto_direct/1050_accum16_20200212_163258.png\n",
      "|3062140|sqliteu|results/proto_direct/1050_accum16_20200212_163258.png|\n",
      "|3376360|dlugoszu|results/proto_direct/1050_accum16_20200212_163258.png|\n",
      "|3745085|leb128s|results/proto_direct/1050_accum16_20200212_163258.png|\n",
      "|3376360|leb128u|results/proto_direct/1050_accum16_20200212_163258.png|\n",
      "Delta Compact Variant Encoding\n",
      "results/proto_delta/1050_accum16_20200212_163258.png\n",
      "|3064074|sqliteu|results/proto_delta/1050_accum16_20200212_163258.png|\n",
      "|3158032|dlugoszu|results/proto_delta/1050_accum16_20200212_163258.png|\n",
      "|3464464|leb128s|results/proto_delta/1050_accum16_20200212_163258.png|\n",
      "|3158032|leb128u|results/proto_delta/1050_accum16_20200212_163258.png|\n",
      "\n",
      "\n",
      "Raw size: 6096480 bytes in 3048192 items\n"
     ]
    },
    {
     "name": "stderr",
     "output_type": "stream",
     "text": [
      "/opt/app-root/src/StorageResearch/process.py:91: UserWarning: results/png_delta/2250_accum16_20200212_163308.png is a low contrast image\n",
      "  imsave(dst, reduced)\n",
      "/opt/app-root/src/StorageResearch/process.py:91: UserWarning: results/png_direct/2250_accum16_20200212_163308.png is a low contrast image\n",
      "  imsave(dst, reduced)\n"
     ]
    },
    {
     "name": "stdout",
     "output_type": "stream",
     "text": [
      "Direct png compaction: 6096480 bytes in 3048192 items using digitize16\n",
      "Delta png compaction: 6096480 bytes in 3048192 items using digitize16\n",
      "Raw Variant Encoding\n",
      "results/proto_raw/2250_accum16_20200212_163308.png\n",
      "|3085486|sqliteu|results/proto_raw/2250_accum16_20200212_163308.png|\n",
      "|3441009|dlugoszu|results/proto_raw/2250_accum16_20200212_163308.png|\n",
      "|3852642|leb128s|results/proto_raw/2250_accum16_20200212_163308.png|\n",
      "|3441009|leb128u|results/proto_raw/2250_accum16_20200212_163308.png|\n",
      "Direct Compact Variant Encoding\n",
      "results/proto_direct/2250_accum16_20200212_163308.png\n",
      "|3060644|sqliteu|results/proto_direct/2250_accum16_20200212_163308.png|\n",
      "|3116206|dlugoszu|results/proto_direct/2250_accum16_20200212_163308.png|\n",
      "|3552366|leb128s|results/proto_direct/2250_accum16_20200212_163308.png|\n",
      "|3116206|leb128u|results/proto_direct/2250_accum16_20200212_163308.png|\n",
      "Delta Compact Variant Encoding\n",
      "results/proto_delta/2250_accum16_20200212_163308.png\n",
      "|3062064|sqliteu|results/proto_delta/2250_accum16_20200212_163308.png|\n",
      "|3129128|dlugoszu|results/proto_delta/2250_accum16_20200212_163308.png|\n",
      "|3417507|leb128s|results/proto_delta/2250_accum16_20200212_163308.png|\n",
      "|3129128|leb128u|results/proto_delta/2250_accum16_20200212_163308.png|\n",
      "\n",
      "\n",
      "Raw size: 6096480 bytes in 3048192 items\n"
     ]
    },
    {
     "name": "stderr",
     "output_type": "stream",
     "text": [
      "/opt/app-root/src/StorageResearch/process.py:91: UserWarning: results/png_delta/900_accum16_20200212_163257.png is a low contrast image\n",
      "  imsave(dst, reduced)\n",
      "/opt/app-root/src/StorageResearch/process.py:91: UserWarning: results/png_direct/900_accum16_20200212_163257.png is a low contrast image\n",
      "  imsave(dst, reduced)\n"
     ]
    },
    {
     "name": "stdout",
     "output_type": "stream",
     "text": [
      "Direct png compaction: 6096480 bytes in 3048192 items using digitize16\n",
      "Delta png compaction: 6096480 bytes in 3048192 items using digitize16\n",
      "Raw Variant Encoding\n",
      "results/proto_raw/900_accum16_20200212_163257.png\n",
      "|3355242|sqliteu|results/proto_raw/900_accum16_20200212_163257.png|\n",
      "|3824909|dlugoszu|results/proto_raw/900_accum16_20200212_163257.png|\n",
      "|3999523|leb128s|results/proto_raw/900_accum16_20200212_163257.png|\n"
     ]
    }
   ],
   "source": [
    "root = Path('./ee19f416b1735c6ec5fc2ff3c1524a761032d001')\n",
    "for (parent, dirs, files) in os.walk(root):\n",
    "    for file in files:\n",
    "        if file.endswith('.png'):\n",
    "            result = parent + '/' + file\n",
    "            shaped_data = imread(result)\n",
    "            raw_data = shaped_data.flatten()\n",
    "            print(f\"Raw size: {sys.getsizeof(raw_data)} bytes in {len(raw_data)} items\")\n",
    "            result_path = Path(result).relative_to(root)\n",
    "            (compact_direct, direct_key, compact_delta, delta_key) = process(shaped_data, result_path)\n",
    "            # TODO: Save the direct_key and delta_key contents!\n",
    "            print(f\"Direct png compaction: {sys.getsizeof(compact_direct)} bytes in {len(compact_direct)} items using {direct_key['algorithm']}\")\n",
    "            if compact_delta is not None:\n",
    "                print(f\"Delta png compaction: {sys.getsizeof(compact_delta)} bytes in {len(compact_delta)} items using {delta_key['algorithm']}\")\n",
    "            else:\n",
    "                print(\"Delta png compaction was not available on this input\")\n",
    "            print(\"Raw Variant Encoding\")\n",
    "            run_experiment(raw_data, proto_raw_reduce_root / result_path)\n",
    "            print(\"Direct Compact Varint Encoding\")\n",
    "            run_experiment(compact_direct, proto_direct_reduce_root / result_path)\n",
    "            print(\"Sparse Direct Compact Varint Encoding\")\n",
    "            bsr_rep = sparse.bsr_matrix(compact_direct)\n",
    "            run_experiment(bsr_rep.data.flatten(), sparse_proto_direct_reduce_root / result_path)\n",
    "            if compact_delta is not None:\n",
    "                print(\"Delta Compact Varint Encoding\")\n",
    "                run_experiment(compact_delta, proto_delta_reduce_root / result_path)\n",
    "            sparse.bsr_matrix()\n",
    "            print(\"\\n\")\n"
   ]
  },
  {
   "cell_type": "code",
   "execution_count": 2,
   "metadata": {},
   "outputs": [
    {
     "data": {
      "application/vnd.jupyter.widget-view+json": {
       "model_id": "780d9af40cae442f8156a22221c7d3ac",
       "version_major": 2,
       "version_minor": 0
      },
      "text/plain": [
       "FileUpload(value={}, description='Upload')"
      ]
     },
     "metadata": {},
     "output_type": "display_data"
    }
   ],
   "source": [
    "from IPython.display import display\n",
    "from ipywidgets import FileUpload\n",
    "\n",
    "f = FileUpload()\n",
    "display(f)\n"
   ]
  },
  {
   "cell_type": "code",
   "execution_count": null,
   "metadata": {},
   "outputs": [],
   "source": []
  }
 ],
 "metadata": {
  "kernelspec": {
   "display_name": "Python 3",
   "language": "python",
   "name": "python3"
  },
  "language_info": {
   "codemirror_mode": {
    "name": "ipython",
    "version": 3
   },
   "file_extension": ".py",
   "mimetype": "text/x-python",
   "name": "python",
   "nbconvert_exporter": "python",
   "pygments_lexer": "ipython3",
   "version": "3.6.9"
  }
 },
 "nbformat": 4,
 "nbformat_minor": 4
}
