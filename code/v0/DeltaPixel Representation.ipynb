{
 "cells": [
  {
   "cell_type": "code",
   "execution_count": 16,
   "metadata": {},
   "outputs": [
    {
     "name": "stdout",
     "output_type": "stream",
     "text": [
      "./ee19f416b1735c6ec5fc2ff3c1524a761032d001/450_accum16_20200212_163253.png\n",
      "True\n"
     ]
    }
   ],
   "source": [
    "from skimage.io import imread, imsave\n",
    "import numpy as np\n",
    "import os\n",
    "from pathlib import Path\n",
    "\n",
    "for (parent, dirs, files) in os.walk('./ee19f416b1735c6ec5fc2ff3c1524a761032d001'):\n",
    "    for file in files:\n",
    "        if str(file).endswith('.png'):\n",
    "            print(parent + '/' + file)\n",
    "            result = parent + '/' + file\n",
    "            break\n",
    "\n",
    "data = imread(result).flatten()\n",
    "data2 = data.tolist().copy()\n",
    "check_val = data2.pop()\n",
    "data2.insert(0, 0)\n",
    "size = len(data2)\n",
    "deltas = data - (np.fromiter(data2, np.int16, size))\n",
    "recover = np.cumsum(deltas)\n",
    "comp = recover == data\n",
    "print(comp.all())\n"
   ]
  },
  {
   "cell_type": "markdown",
   "metadata": {},
   "source": []
  },
  {
   "cell_type": "code",
   "execution_count": 25,
   "metadata": {},
   "outputs": [
    {
     "name": "stdout",
     "output_type": "stream",
     "text": [
      "Original:  [1, 2, 3, 4, 5, 6]\n",
      "DeltaPixel Representation:  [1 1 1 1 1 1]\n",
      "Demonstrate reversibility by cum sum! [1 2 3 4 5 6]\n"
     ]
    }
   ],
   "source": [
    "orig = [1, 2, 3, 4, 5, 6]\n",
    "print(\"Some original input array: \", orig)\n",
    "d1 = [0, 1, 2, 3, 4, 5]\n",
    "n1 = np.fromiter(d1, np.int8)\n",
    "n2 = np.fromiter(orig, np.int8)\n",
    "n3 = n2 - n1\n",
    "print(\"It's derived Delta Pixel representation: \", n3)\n",
    "n4 = np.cumsum(n3)\n",
    "print(\"Reversing the transform with cum sum\", n4)"
   ]
  },
  {
   "cell_type": "code",
   "execution_count": 22,
   "metadata": {},
   "outputs": [
    {
     "name": "stdout",
     "output_type": "stream",
     "text": [
      "Optimal encoding for 2888549 out of 3048192 total pixel count\n"
     ]
    }
   ],
   "source": [
    "data = imread('./ee19f416b1735c6ec5fc2ff3c1524a761032d001/450_accum16_20200212_163253.png')\n",
    "flat = data.flatten()\n",
    "# Use the unique tabulation to define bucket boundaries, but we need one beyond the last value or\n",
    "# else the last bucket is not counted\n",
    "uniques = np.unique(flat)\n",
    "np.sort(uniques)\n",
    "size = len(uniques)\n",
    "uniques.resize(size + 1)\n",
    "uniques[size] = np.max(uniques) + 5\n",
    "ht = np.histogram(flat, bins=uniques, density=False)\n",
    "values = np.array([(ii[0],0-ii[1]) for ii in zip(ht[1], ht[0])], \n",
    "                  dtype=[(\"value\", int), (\"freq\", int)])\n",
    "flat.tolist()\n",
    "values.sort(order=\"freq\")\n",
    "encoding_map = [ii[0] for ii in values]\n",
    "\n",
    "optimalPixels = np.sum([(0 - ii[1]) for ii in values[0:240]])\n",
    "print(f\"Optimal encoding for {optimalPixels} out of {len(flat)} total pixel count\")\n"
   ]
  },
  {
   "cell_type": "code",
   "execution_count": 23,
   "metadata": {},
   "outputs": [
    {
     "data": {
      "text/plain": [
       "94.76269867514907"
      ]
     },
     "execution_count": 23,
     "metadata": {},
     "output_type": "execute_result"
    }
   ],
   "source": [
    "2888549 * 100.0 / 3048192 "
   ]
  },
  {
   "cell_type": "code",
   "execution_count": null,
   "metadata": {},
   "outputs": [],
   "source": []
  }
 ],
 "metadata": {
  "kernelspec": {
   "display_name": "Python 3",
   "language": "python",
   "name": "python3"
  },
  "language_info": {
   "codemirror_mode": {
    "name": "ipython",
    "version": 3
   },
   "file_extension": ".py",
   "mimetype": "text/x-python",
   "name": "python",
   "nbconvert_exporter": "python",
   "pygments_lexer": "ipython3",
   "version": "3.6.9"
  }
 },
 "nbformat": 4,
 "nbformat_minor": 4
}
