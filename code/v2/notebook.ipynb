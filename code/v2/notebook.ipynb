{
 "cells": [
  {
   "cell_type": "code",
   "execution_count": 1,
   "metadata": {},
   "outputs": [
    {
     "data": {
      "application/vnd.jupyter.widget-view+json": {
       "model_id": "6b317d2eff904f258dcd0c7f24093dc4",
       "version_major": 2,
       "version_minor": 0
      },
      "text/plain": [
       "VBox(children=(HBox(children=(FileUpload(value={}, description='Upload an image for Analysis'), IntText(value=…"
      ]
     },
     "metadata": {},
     "output_type": "display_data"
    },
    {
     "data": {
      "application/vnd.jupyter.widget-view+json": {
       "model_id": "ec3c0d0f3d384dd19ec7560813637155",
       "version_major": 2,
       "version_minor": 0
      },
      "text/plain": [
       "Output()"
      ]
     },
     "metadata": {},
     "output_type": "display_data"
    }
   ],
   "source": [
    "# from dashboard import Dashboard\n",
    "# from sidecar import Sidecar\n",
    "import numpy as np\n",
    "from skimage.io import imread, imsave\n",
    "from scipy import sparse\n",
    "# from matplotlib import pyplot as plt\n",
    "import plotly.graph_objs as go\n",
    "\n",
    "from IPython.display import display\n",
    "from ipywidgets import Accordion, FileUpload, Label, Output, IntProgress, IntSlider, Tab, IntText, Text, Button, Dropdown, AppLayout, Box, SelectionSlider, FloatSlider, Button, HBox, VBox\n",
    "from traitlets import default, List, HasTraits\n",
    "from analysis_driver import AnalysisDriver\n",
    "\n",
    "\n",
    "\n",
    "# def rebinnable_interactive_histogram(series, bins, initial_bin_width=10):\n",
    "#     start = bins[0]\n",
    "#     end = bins[-1]\n",
    "#     size = (end-start)/(len(bins)-1)\n",
    "\n",
    "#     figure_widget = go.FigureWidget(\n",
    "#         data=[go.Histogram(x=series, xbins={\"start\": start, \"size\": size, \"end\": end})] # {\"size\": initial_bin_width})]\n",
    "#     )\n",
    "#     bin_slider = FloatSlider(\n",
    "#         value=initial_bin_width,\n",
    "#         min=1,\n",
    "#         max=30,\n",
    "#         step=1,\n",
    "#         description=\"Bin width:\",\n",
    "#         readout_format=\".0f\",  # display as integer\n",
    "#     )\n",
    "#     histogram_object = figure_widget.data[0]\n",
    "#     def set_bin_size(change):\n",
    "#         pass\n",
    "#         # histogram_object.xbins = {\"size\": change[\"new\"]}\n",
    "#     bin_slider.observe(set_bin_size, names=\"value\")\n",
    "#     output_widget = VBox([figure_widget, bin_slider])\n",
    "#     return output_widget\n",
    "\n",
    "        \n",
    "        \n",
    "class Dashboard(HasTraits):\n",
    "    project_list = List()\n",
    "    \n",
    "    def __init__(self):\n",
    "        self.progress_bars: List[IntProgressBar] = {}\n",
    "        self._file_analysis: Dict = {}\n",
    "                \n",
    "        rnd_data = np.random.normal(loc=50.0, scale=18.5, size=[2800])\n",
    "        histo, bin_edges = np.histogram(rnd_data, bins=18, density=False)\n",
    "#         histo_widget = rebinnable_interactive_histogram(histo, bin_edges)\n",
    "#         print(histo_widget)\n",
    "\n",
    "        self.t_file_upload = FileUpload(description='Upload an image for Analysis')\n",
    "        self.width_field = IntText(description='Image Width', value=1512)\n",
    "        self.height_field = IntText(description='Image Height', value=2016)\n",
    "        self.header = HBox(children=[self.t_file_upload, self.width_field, self.height_field], height=\"100%\")\n",
    "        self.debug_output = Output()\n",
    "        self.progress_box = HBox(children=[])\n",
    "        self.tab_analysis_results = Tab(children=[\n",
    "            Text(\"TBD\")\n",
    "        ])\n",
    "        self.acc_open_files = Accordion(\n",
    "            description='View Options', \n",
    "            children=[self.progress_box, self.tab_analysis_results, self.debug_output])\n",
    "                      # histo_widget, self.debug_output])\n",
    "        \n",
    "#         self.center_panel = VBox(children=[self.acc_open_files])\n",
    "#         self.right_panel = VBox(children=[])\n",
    "#         self.app_layout = AppLayout(\n",
    "#             header=self.header, left_sidebar=None, center=self.center_panel, right_sidebar=self.right_panel, \n",
    "#             pane_widths=[\"3%\", \"72%\", \"25%\"], pane_heights=[\"15%\", \"80%\", \"5%\"], footer=None, height=\"480px\")\n",
    "#         self.app_tab = Stacked(children=[self.app_layout, self.debug_output])\n",
    "#         self.app_tab.titles=[\"Main\", \"Debug\"]\n",
    "        \n",
    "        self.app_layout = VBox(children=[self.header, self.acc_open_files], height='480px')\n",
    "        \n",
    "    @default('project_list')\n",
    "    def default_project_list(self):\n",
    "        sseturn [('John', 0), ('Jamie', 1), ('Kay', 2)]\n",
    "        \n",
    "    def display(self):\n",
    "        display(self.app_layout)\n",
    "        display(self.debug_output)\n",
    "        \n",
    "    def on_file_uploaded(self, e):\n",
    "        width = self.width_field.value\n",
    "        height = self.height_field.value\n",
    "        upload_record = self.t_file_upload.value\n",
    "        for key in upload_record:\n",
    "            if not key in self._file_analysis:\n",
    "                progress_bar = IntProgress(\n",
    "                    value=0, min=0, max=8, step=1, \n",
    "                    description=f\"Optimizing: {key}\", \n",
    "                    orientation='horizontal',\n",
    "                    bar_style='info')\n",
    "                upload_content = upload_record[key][\"content\"]\n",
    "                analyzer = VisibleOptimizer(key, upload_content, progress_bar, width=width, height=height)\n",
    "                self._file_analysis[key] = {\n",
    "                    \"progress_bar\": progress_bar,\n",
    "                    \"file_content\": upload_content,\n",
    "                    \"visual_optimizer\": analyzer\n",
    "                }\n",
    "                with self.debug_output as dbg:\n",
    "                    print(f\"Analysis in progress for {key}\")\n",
    "                self.center_panel.children.insert(0, progress_bar)\n",
    "                display(progress_bar)\n",
    "                analyzer.run_analysis()\n",
    "                results = analyzer.collect_widgets()\n",
    "                self._file_analysis[key][\"results\"] = results\n",
    "                del self._file_analysis[key][\"file_content\"]\n",
    "                progress_bar.value = 10\n",
    "                self.center_panel.children.reverse()\n",
    "                self.center_panel.children.pop()\n",
    "                self.center_panel.children.reverse()\n",
    "                self.acc_open_files.children.append(results[\"widget\"])\n",
    "\n",
    "        \n",
    "main = Dashboard()\n",
    "main.display()\n",
    "main.t_file_upload.observe(main.on_file_uploaded, 'value')\n",
    "\n",
    "hits = 0\n",
    "\n",
    "def handler2(e):\n",
    "    global hits\n",
    "    hits = hits + 1\n",
    "    \n",
    "main.t_file_upload.observe(handler2, 'value')\n"
   ]
  },
  {
   "cell_type": "code",
   "execution_count": 2,
   "metadata": {},
   "outputs": [
    {
     "data": {
      "application/vnd.jupyter.widget-view+json": {
       "model_id": "c9675b00485749e5811f8a069e0d9e16",
       "version_major": 2,
       "version_minor": 0
      },
      "text/plain": [
       "Output()"
      ]
     },
     "metadata": {},
     "output_type": "display_data"
    },
    {
     "name": "stdout",
     "output_type": "stream",
     "text": [
      "Bar\n",
      "Bam\n"
     ]
    }
   ],
   "source": [
    "key = \"900_accum16_20200212_163257.png\"\n",
    "output = Output(height=\"200px\")\n",
    "progress_bar = IntProgress(\n",
    "        value=-1, min=0, max=10, step=1, \n",
    "        description=f\"Optimizing: {key}\", \n",
    "        orientation='horizontal',\n",
    "        bar_style='info')\n",
    "progress_bar.value = 0\n",
    "display(output)\n",
    "print(\"Bar\")\n",
    "with output as op:\n",
    "    print(\"Foo\")\n",
    "print(\"Bam\")"
   ]
  },
  {
   "cell_type": "code",
   "execution_count": 3,
   "metadata": {},
   "outputs": [],
   "source": [
    "from skimage.io import imread\n",
    "import numpy as np\n",
    "\n",
    "with output as op:\n",
    "    path = \"./ee19f416b1735c6ec5fc2ff3c1524a761032d001/900_accum16_20200212_163257.png\"\n",
    "    key = \"900_accum16_20200212_163257.png\"\n",
    "    data = imread(path)\n",
    "    d = data.flatten()\n",
    "    print(d.shape)\n",
    "    \n",
    "    f = AnalysisDriver(key, d, progress_bar, width=1512, height=2016) \n",
    "    display(progress_bar)\n",
    "    f.run_analysis()\n",
    "    \n",
    "\n"
   ]
  },
  {
   "cell_type": "code",
   "execution_count": 4,
   "metadata": {},
   "outputs": [
    {
     "name": "stdout",
     "output_type": "stream",
     "text": [
      "['Accordion', 'AppLayout', 'Audio', 'BoundedFloatText', 'BoundedIntText', 'Box', 'Button', 'ButtonStyle', 'CallbackDispatcher', 'Checkbox', 'Color', 'ColorPicker', 'Combobox', 'Controller', 'CoreWidget', 'DOMWidget', 'DatePicker', 'Datetime', 'Dropdown', 'FileUpload', 'FloatLogSlider', 'FloatProgress', 'FloatRangeSlider', 'FloatSlider', 'FloatText', 'GridBox', 'GridspecLayout', 'HBox', 'HTML', 'HTMLMath', 'Image', 'IntProgress', 'IntRangeSlider', 'IntSlider', 'IntText', 'Label', 'Layout', 'NumberFormat', 'Output', 'Password', 'Play', 'RadioButtons', 'Select', 'SelectMultiple', 'SelectionRangeSlider', 'SelectionSlider', 'SliderStyle', 'Style', 'Tab', 'Text', 'Textarea', 'ToggleButton', 'ToggleButtons', 'ToggleButtonsStyle', 'TwoByTwoLayout', 'VBox', 'Valid', 'ValueWidget', 'Video', 'Widget', '__builtins__', '__cached__', '__doc__', '__file__', '__jupyter_widgets_base_version__', '__jupyter_widgets_controls_version__', '__loader__', '__name__', '__package__', '__path__', '__protocol_version__', '__spec__', '__version__', '_handle_ipython', '_version', 'dlink', 'docutils', 'domwidget', 'fixed', 'get_ipython', 'handle_kernel', 'interact', 'interact_manual', 'interaction', 'interactive', 'interactive_output', 'jsdlink', 'jslink', 'link', 'load_ipython_extension', 'os', 'register', 'register_comm_target', 'trait_types', 'util', 'valuewidget', 'version_info', 'widget', 'widget_bool', 'widget_box', 'widget_button', 'widget_color', 'widget_controller', 'widget_core', 'widget_date', 'widget_description', 'widget_float', 'widget_int', 'widget_layout', 'widget_link', 'widget_media', 'widget_output', 'widget_selection', 'widget_selectioncontainer', 'widget_serialization', 'widget_string', 'widget_style', 'widget_templates', 'widget_upload', 'widgets']\n"
     ]
    }
   ],
   "source": [
    "import ipywidgets\n",
    "\n",
    "print(dir(ipywidgets))"
   ]
  },
  {
   "cell_type": "code",
   "execution_count": null,
   "metadata": {},
   "outputs": [],
   "source": []
  },
  {
   "cell_type": "code",
   "execution_count": null,
   "metadata": {},
   "outputs": [],
   "source": []
  },
  {
   "cell_type": "code",
   "execution_count": null,
   "metadata": {},
   "outputs": [],
   "source": []
  },
  {
   "cell_type": "code",
   "execution_count": null,
   "metadata": {},
   "outputs": [],
   "source": []
  }
 ],
 "metadata": {
  "kernelspec": {
   "display_name": "Python 3",
   "language": "python",
   "name": "python3"
  },
  "language_info": {
   "codemirror_mode": {
    "name": "ipython",
    "version": 3
   },
   "file_extension": ".py",
   "mimetype": "text/x-python",
   "name": "python",
   "nbconvert_exporter": "python",
   "pygments_lexer": "ipython3",
   "version": "3.6.9"
  }
 },
 "nbformat": 4,
 "nbformat_minor": 4
}
